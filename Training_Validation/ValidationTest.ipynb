{
 "cells": [
  {
   "cell_type": "code",
   "execution_count": 1,
   "id": "peripheral-guitar",
   "metadata": {},
   "outputs": [],
   "source": [
    "import os \n",
    "os.environ[\"HTTP_PROXY\"] = \"http://127.0.0.1:9000/localproxy.pac\"\n",
    "import time\n",
    "import numpy as np\n",
    "import pandas as pd\n",
    "import pyttsx3\n",
    "\n",
    "import speech_recognition as sr\n",
    "from sklearn.feature_extraction.text import CountVectorizer\n",
    "from sklearn.feature_extraction import DictVectorizer\n",
    "from sklearn.model_selection import train_test_split\n",
    "import re\n",
    "from sklearn import metrics\n",
    "from sklearn.metrics import confusion_matrix,recall_score,roc_auc_score,roc_curve\n",
    "import matplotlib.pyplot as plt\n",
    "import joblib\n",
    "import collections as clct\n",
    "engine = pyttsx3.init()\n",
    "df_m=pd.read_csv(\"../Datasets/national_names_shuf.csv\")[0:480000]\n",
    "df_m.head()\n",
    "df_m.isnull().values.any()\n",
    "df_m.sex.unique()\n",
    "df_m.sex=[0 if each==\"M\" else 1 for each in df_m.sex]\n",
    "y=df_m.sex\n",
    "def clean(word):\n",
    "    return re.sub('[^a-zA-Z]','',word)\n",
    "df_m[\"name\"]=df_m[\"name\"].apply(clean)\n",
    "df_m[\"name\"]=df_m[\"name\"].str.lower()"
   ]
  },
  {
   "cell_type": "markdown",
   "id": "according-serbia",
   "metadata": {},
   "source": [
    "### Load MNB Model "
   ]
  },
  {
   "cell_type": "code",
   "execution_count": 43,
   "id": "cubic-avenue",
   "metadata": {},
   "outputs": [
    {
     "data": {
      "text/plain": [
       "'result = loaded_mnb_model.score(X_test_mnb, y_test_mnb)\\nprint(result)'"
      ]
     },
     "execution_count": 43,
     "metadata": {},
     "output_type": "execute_result"
    }
   ],
   "source": [
    "cv_mnb = CountVectorizer()\n",
    "Xfeatures=df_m[\"name\"]\n",
    "X_mnb = cv_mnb.fit_transform(Xfeatures)\n",
    "#X_train_mnb, X_test_mnb, y_train_mnb, y_test_mnb = train_test_split(X_mnb, y, test_size=0.2, random_state=42)\n",
    "filename = 'mnb_model.sav'\n",
    "loaded_mnb_model = joblib.load(filename)\n",
    "\"\"\"result = loaded_mnb_model.score(X_test_mnb, y_test_mnb)\n",
    "print(result)\"\"\""
   ]
  },
  {
   "cell_type": "code",
   "execution_count": 44,
   "id": "experimental-tucson",
   "metadata": {},
   "outputs": [
    {
     "data": {
      "text/plain": [
       "'\\nr = sr.Recognizer()\\nwith sr.Microphone() as source:\\n    print(\"Say something!\")\\n    audio = r.listen(source)\\nstr1=r.recognize_google(audio,language=\"fr-FR\").lower()\\nprint(\"you said \",str1)\\n'"
      ]
     },
     "execution_count": 44,
     "metadata": {},
     "output_type": "execute_result"
    }
   ],
   "source": [
    "def genderpredictor(a):\n",
    "    test_name = [a]\n",
    "    vector = cv_mnb.transform(test_name).toarray()\n",
    "    if loaded_mnb_model.predict(vector) == 1:\n",
    "        return \"Female\"\n",
    "    else:\n",
    "        return \"Male\"\n",
    "\"\"\"\n",
    "r = sr.Recognizer()\n",
    "with sr.Microphone() as source:\n",
    "    print(\"Say something!\")\n",
    "    audio = r.listen(source)\n",
    "str1=r.recognize_google(audio,language=\"fr-FR\").lower()\n",
    "print(\"you said \",str1)\n",
    "\"\"\""
   ]
  },
  {
   "cell_type": "code",
   "execution_count": 49,
   "id": "armed-health",
   "metadata": {},
   "outputs": [
    {
     "name": "stdout",
     "output_type": "stream",
     "text": [
      "13257\n"
     ]
    },
    {
     "data": {
      "text/plain": [
       "'\\nout=str1+\" is a \"+genderpredictor(\"str1\")\\nprint(str(out))\\nengine.say(out)\\nengine.runAndWait()\\n'"
      ]
     },
     "execution_count": 49,
     "metadata": {},
     "output_type": "execute_result"
    }
   ],
   "source": [
    "#print(genderpredictor(\"rachid\"))\n",
    "#df_m.drop_duplicates(subset =\"name\",keep = 'first', inplace = True)\n",
    "print(df_m.loc[df_m[\"name\"] == \"rachid\", \"count\"].sum())\n",
    "\"\"\"\n",
    "out=str1+\" is a \"+genderpredictor(\"str1\")\n",
    "print(str(out))\n",
    "engine.say(out)\n",
    "engine.runAndWait()\n",
    "\"\"\""
   ]
  },
  {
   "cell_type": "markdown",
   "id": "aggregate-vienna",
   "metadata": {},
   "source": [
    "### Validation"
   ]
  },
  {
   "cell_type": "code",
   "execution_count": 5,
   "id": "stupid-image",
   "metadata": {},
   "outputs": [],
   "source": [
    "df_v=pd.read_csv(\"../Datasets/national_names_shuf.csv\")[480000:-1] #20% du dataset for validation\n",
    "df_v[\"name\"]=df_v[\"name\"].apply(clean)\n",
    "df_v.drop([\"year\",\"count\"],axis=1)\n",
    "def predvalues():\n",
    "    val=[]\n",
    "    for name in df_v[\"name\"]:\n",
    "        val.append(genderpredictor(name)[0])\n",
    "    return val\n",
    "exact_values=df_v[\"sex\"].values.tolist()\n",
    "val=predvalues()"
   ]
  },
  {
   "cell_type": "code",
   "execution_count": 6,
   "id": "prime-courage",
   "metadata": {},
   "outputs": [
    {
     "name": "stdout",
     "output_type": "stream",
     "text": [
      "Validation Score MNB:  0.0036297041791094027\n"
     ]
    }
   ],
   "source": [
    "val_clt=clct.Counter(val)\n",
    "exact_values_clt=clct.Counter(exact_values)\n",
    "error_mnb=(abs(val_clt['F']-exact_values_clt['F'])+abs(val_clt['M']-exact_values_clt['M']))/len(val)\n",
    "print(\"Validation Score MNB: \",error_mnb)"
   ]
  },
  {
   "cell_type": "markdown",
   "id": "unauthorized-fetish",
   "metadata": {},
   "source": [
    "### Load Decision Tree Classifier"
   ]
  },
  {
   "cell_type": "code",
   "execution_count": 2,
   "id": "measured-newark",
   "metadata": {},
   "outputs": [],
   "source": [
    "def features(name):\n",
    "    name = name.lower()\n",
    "    return {\n",
    "        'first-letter': name[0], # First letter\n",
    "        'first2-letters': name[0:2], # First 2 letters\n",
    "        'first3-letters': name[0:3], # First 3 letters\n",
    "        'last-letter': name[-1],\n",
    "        'last2-letters': name[-2:],\n",
    "        'last3-letters': name[-3:],\n",
    "    }\n",
    "features = np.vectorize(features)"
   ]
  },
  {
   "cell_type": "code",
   "execution_count": 3,
   "id": "incoming-curtis",
   "metadata": {},
   "outputs": [],
   "source": [
    "filename = 'dtree_model.sav'\n",
    "\n",
    "X_train_features_dtree = features(df_m['name'])\n",
    "\n",
    "dv_dtree = DictVectorizer()\n",
    "\n",
    "X_train_tree, X_test_tree, y_train_tree, y_test_tree = train_test_split(X_train_features_dtree , y, test_size=0.2, random_state=42)\n",
    "dv_dtree.fit_transform(X_train_tree)\n",
    "loaded_dtree_model = joblib.load(filename)\n",
    "#y_pred_tree= loaded_dtree_model.predict(dv_dtree.transform(X_test_tree))\n",
    "#accuracy_dtree=metrics.accuracy_score(y_test_tree, y_pred_tree)\n",
    "#print(accuracy_dtree)"
   ]
  },
  {
   "cell_type": "code",
   "execution_count": 5,
   "id": "middle-nurse",
   "metadata": {},
   "outputs": [
    {
     "data": {
      "text/plain": [
       "'\\nr_tree = sr.Recognizer()\\nwith sr.Microphone() as source:\\n    print(\"Say something!\")\\n    audio = r_tree.listen(source)\\nstr2=r_tree.recognize_google(audio,language=\"fr-FR\").lower()\\nprint(\"you said \",str2)\\n'"
      ]
     },
     "execution_count": 5,
     "metadata": {},
     "output_type": "execute_result"
    }
   ],
   "source": [
    "def genderpredictor_tree(a):\n",
    "    test_name_tree = [a]\n",
    "    vector_tree = dv_dtree.transform(features(test_name_tree)).toarray()\n",
    "    if loaded_dtree_model.predict(vector_tree) == 1:\n",
    "        return \"Female\"\n",
    "    else:\n",
    "        return \"Male\"\n",
    "\"\"\"\n",
    "r_tree = sr.Recognizer()\n",
    "with sr.Microphone() as source:\n",
    "    print(\"Say something!\")\n",
    "    audio = r_tree.listen(source)\n",
    "str2=r_tree.recognize_google(audio,language=\"fr-FR\").lower()\n",
    "print(\"you said \",str2)\n",
    "\"\"\""
   ]
  },
  {
   "cell_type": "code",
   "execution_count": 6,
   "id": "paperback-equilibrium",
   "metadata": {},
   "outputs": [
    {
     "name": "stdout",
     "output_type": "stream",
     "text": [
      "Male\n"
     ]
    },
    {
     "data": {
      "text/plain": [
       "'\\nout_tree=str2+\" is a \"+genderpredictor_tree(str2)\\nprint(str(out_tree))\\nengine.say(out_tree)\\nengine.runAndWait()\\n'"
      ]
     },
     "execution_count": 6,
     "metadata": {},
     "output_type": "execute_result"
    }
   ],
   "source": [
    "print(genderpredictor_tree(\"rach\"))\n",
    "\"\"\"\n",
    "out_tree=str2+\" is a \"+genderpredictor_tree(str2)\n",
    "print(str(out_tree))\n",
    "engine.say(out_tree)\n",
    "engine.runAndWait()\n",
    "\"\"\""
   ]
  },
  {
   "cell_type": "markdown",
   "id": "jewish-worcester",
   "metadata": {},
   "source": [
    "### Validation"
   ]
  },
  {
   "cell_type": "code",
   "execution_count": 11,
   "id": "floppy-fever",
   "metadata": {},
   "outputs": [],
   "source": [
    "df_v=pd.read_csv(\"../Datasets/national_names_shuf.csv\")[480000:-1] #20% du dataset for validation\n",
    "df_v[\"name\"]=df_v[\"name\"].apply(clean)\n",
    "df_v.drop([\"year\",\"count\"],axis=1)\n",
    "def predvalues_tree():\n",
    "    val=[]\n",
    "    for name in df_v[\"name\"]:\n",
    "        val.append(genderpredictor_tree(name)[0])\n",
    "    return val\n",
    "exact_values_tree=df_v[\"sex\"].values.tolist()\n",
    "val_tree=predvalues_tree()"
   ]
  },
  {
   "cell_type": "code",
   "execution_count": 12,
   "id": "pursuant-enemy",
   "metadata": {},
   "outputs": [
    {
     "name": "stdout",
     "output_type": "stream",
     "text": [
      "Validation Score DTree:  0.014848789823629374\n"
     ]
    }
   ],
   "source": [
    "val_tree_clt=clct.Counter(val_tree)\n",
    "exact_values_tree_clt=clct.Counter(exact_values_tree)\n",
    "error_dtree=(abs(val_tree_clt['F']-exact_values_tree_clt['F'])+abs(val_tree_clt['M']-exact_values_tree_clt['M']))/len(val_tree)\n",
    "print(\"Validation Score DTree: \",error_dtree)"
   ]
  },
  {
   "cell_type": "markdown",
   "id": "banned-journal",
   "metadata": {},
   "source": [
    "### Load Random Forest"
   ]
  },
  {
   "cell_type": "code",
   "execution_count": 13,
   "id": "technical-cheese",
   "metadata": {},
   "outputs": [
    {
     "name": "stdout",
     "output_type": "stream",
     "text": [
      "0.9463383838383839\n"
     ]
    }
   ],
   "source": [
    "filename = 'rf_model.sav'\n",
    "X_train_features_randomForrest = features(df_m['name'])\n",
    "\n",
    "dv_randomForrest = DictVectorizer()\n",
    "X_train_randomForrest, X_test_randomForrest, y_train_randomForrest, y_test_randomForrest = train_test_split(X_train_features_randomForrest , y, test_size=0.33, random_state=42)\n",
    "dv_randomForrest.fit_transform(X_train_randomForrest)\n",
    "loaded_rF_model = joblib.load(filename)\n",
    "y_pred_rForest= loaded_rF_model.predict(dv_randomForrest.transform(X_test_randomForrest))\n",
    "accuracy_rF=metrics.accuracy_score(y_test_randomForrest, y_pred_rForest)\n",
    "print(accuracy_rF)"
   ]
  },
  {
   "cell_type": "code",
   "execution_count": 14,
   "id": "geographic-porter",
   "metadata": {},
   "outputs": [],
   "source": [
    "def genderpredictor_r(a):\n",
    "    test_name_tree = [a]\n",
    "    vector_tree = dv_randomForrest.transform(features(test_name_tree)).toarray()\n",
    "    if loaded_rF_model.predict(vector_tree) == 1:\n",
    "        return \"Female\"\n",
    "    else:\n",
    "        return \"Male\""
   ]
  },
  {
   "cell_type": "markdown",
   "id": "cross-pollution",
   "metadata": {},
   "source": [
    "### Validation"
   ]
  },
  {
   "cell_type": "code",
   "execution_count": 15,
   "id": "vital-liver",
   "metadata": {},
   "outputs": [],
   "source": [
    "df_v=pd.read_csv(\"../Datasets/national_names_shuf.csv\")[480000:-1] #20% du dataset for validation\n",
    "df_v[\"name\"]=df_v[\"name\"].apply(clean)\n",
    "df_v.drop([\"year\",\"count\"],axis=1)\n",
    "def predvalues_rf():\n",
    "    val=[]\n",
    "    for name in df_v[\"name\"]:\n",
    "        val.append(genderpredictor_r(name)[0])\n",
    "    return val\n",
    "exact_values_rf=df_v[\"sex\"].values.tolist()\n",
    "#print(genderpredictor_r(\"rachid\"))"
   ]
  },
  {
   "cell_type": "code",
   "execution_count": 16,
   "id": "wanted-alexandria",
   "metadata": {},
   "outputs": [
    {
     "name": "stdout",
     "output_type": "stream",
     "text": [
      "65326\n",
      "66024\n",
      "Validation Score RForest:  0.01151606144099256\n"
     ]
    }
   ],
   "source": [
    "val_rf=predvalues_rf()\n",
    "val_rf_clt=clct.Counter(val_rf)\n",
    "exact_values_rf_clt=clct.Counter(exact_values_rf)\n",
    "print(val_rf_clt['F'])\n",
    "print(exact_values_rf_clt['F'])\n",
    "error_rf=(abs(val_rf_clt['F']-exact_values_rf_clt['F'])+abs(val_rf_clt['M']-exact_values_rf_clt['M']))/len(val_rf)\n",
    "print(\"Validation Score RForest: \",error_rf)"
   ]
  },
  {
   "cell_type": "code",
   "execution_count": 17,
   "id": "specified-upper",
   "metadata": {},
   "outputs": [
    {
     "data": {
      "image/png": "[encoded data removed]",
      "text/plain": [
       "<Figure size 432x288 with 1 Axes>"
      ]
     },
     "metadata": {},
     "output_type": "display_data"
    }
   ],
   "source": [
    "list_accuracy=[error_mnb,error_dtree,error_rf]\n",
    "x=['MNB','Dtree','RandomForest']\n",
    "plt.plot(x,list_accuracy,label='linear',color='g')\n",
    "plt.xlabel('Different Models').set_color('blue')\n",
    "plt.ylabel('Values of Error  ').set_color('blue')\n",
    "plt.title('Comparaison of Error  ').set_color('green')"
   ]
  },
  {
   "cell_type": "code",
   "execution_count": null,
   "id": "major-civilian",
   "metadata": {},
   "outputs": [],
   "source": []
  }
 ],
 "metadata": {
  "kernelspec": {
   "display_name": "Python 3 (Spyder)",
   "language": "python3",
   "name": "python3"
  },
  "language_info": {
   "codemirror_mode": {
    "name": "ipython",
    "version": 3
   },
   "file_extension": ".py",
   "mimetype": "text/x-python",
   "name": "python",
   "nbconvert_exporter": "python",
   "pygments_lexer": "ipython3",
   "version": "3.8.8"
  }
 },
 "nbformat": 4,
 "nbformat_minor": 5
}
