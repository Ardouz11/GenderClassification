{
 "cells": [
  {
   "cell_type": "markdown",
   "id": "czech-ecology",
   "metadata": {},
   "source": [
    "## Import Librairies "
   ]
  },
  {
   "cell_type": "code",
   "execution_count": 1,
   "id": "furnished-aviation",
   "metadata": {},
   "outputs": [],
   "source": [
    "import os  \n",
    "import time\n",
    "import numpy as np\n",
    "import pandas as pd\n",
    "import pyttsx3\n",
    "os.environ[\"HTTP_PROXY\"] = \"http://127.0.0.1:9000/localproxy.pac\"\n",
    "import speech_recognition as sr\n",
    "from sklearn.feature_extraction.text import CountVectorizer\n",
    "from sklearn.feature_extraction import DictVectorizer\n",
    "from sklearn.model_selection import train_test_split\n",
    "import re\n",
    "from sklearn import metrics\n",
    "from sklearn.metrics import confusion_matrix,recall_score,roc_auc_score,roc_curve\n",
    "import matplotlib.pyplot as plt\n",
    "import joblib"
   ]
  },
  {
   "cell_type": "code",
   "execution_count": 2,
   "id": "labeled-illinois",
   "metadata": {},
   "outputs": [
    {
     "data": {
      "text/plain": [
       "'\\ndef shuffler(filename):\\n  df = pd.read_csv(filename, header=0,dtype=object,na_filter=False)\\n  # return the pandas dataframe\\n  return df.reindex(np.random.permutation(df.index))\\n\\ndef main(outputfilename):\\n  shuffler(\"../Datasets/national_names.csv\").to_csv(outputfilename, sep=\\',\\',encoding = \\'utf-8\\',index = False)\\nmain(\"../Datasets/national_names_shuf.csv\")'"
      ]
     },
     "execution_count": 2,
     "metadata": {},
     "output_type": "execute_result"
    }
   ],
   "source": [
    "\"\"\"\n",
    "def shuffler(filename):\n",
    "  df = pd.read_csv(filename, header=0,dtype=object,na_filter=False)\n",
    "  # return the pandas dataframe\n",
    "  return df.reindex(np.random.permutation(df.index))\n",
    "\n",
    "def main(outputfilename):\n",
    "  shuffler(\"../Datasets/national_names.csv\").to_csv(outputfilename, sep=',',encoding = 'utf-8',index = False)\n",
    "main(\"../Datasets/national_names_shuf.csv\")\"\"\""
   ]
  },
  {
   "cell_type": "markdown",
   "id": "smaller-majority",
   "metadata": {},
   "source": [
    "### Preprocessing Data"
   ]
  },
  {
   "cell_type": "code",
   "execution_count": 3,
   "id": "hidden-initial",
   "metadata": {},
   "outputs": [
    {
     "name": "stdout",
     "output_type": "stream",
     "text": [
      "       name  sex\n",
      "0  Leonardo    0\n",
      "1  Norberto    0\n",
      "2  Katarina    1\n",
      "3    Nacera    1\n",
      "4    Tanita    1\n",
      "                year            sex          count\n",
      "count  480000.000000  480000.000000  480000.000000\n",
      "mean     1981.641483       0.544446     138.554423\n",
      "std        31.233541       0.498021     926.394079\n",
      "min      1900.000000       0.000000       3.000000\n",
      "25%      1964.000000       0.000000       4.000000\n",
      "50%      1991.000000       1.000000       8.000000\n",
      "75%      2007.000000       1.000000      24.000000\n",
      "max      2018.000000       1.000000   53706.000000\n"
     ]
    }
   ],
   "source": [
    "engine = pyttsx3.init()\n",
    "\n",
    "df_m=pd.read_csv(\"../Datasets/national_names_shuf.csv\")[0:480000] #80% du dataset\n",
    "df_m.head()\n",
    "df_m.isnull().values.any()\n",
    "df_m.sex.unique()\n",
    "#print(df_m.drop([\"year\",\"count\"],axis=1).head())\n",
    "df_m.sex=[0 if each==\"M\" else 1 for each in df_m.sex]\n",
    "y=df_m.sex\n",
    "def clean(word):\n",
    "    return re.sub('[^a-zA-Z]','',word)\n",
    "df_m[\"name\"]=df_m[\"name\"].apply(clean)\n",
    "print(df_m.drop([\"year\",\"count\"],axis=1).head())\n",
    "print(df_m.describe())"
   ]
  },
  {
   "cell_type": "markdown",
   "id": "accepting-drove",
   "metadata": {},
   "source": [
    "### Multinomial NB"
   ]
  },
  {
   "cell_type": "code",
   "execution_count": 4,
   "id": "optimum-accessory",
   "metadata": {},
   "outputs": [
    {
     "name": "stdout",
     "output_type": "stream",
     "text": [
      "-----------------------Training time is : 0.058963775634765625 seconds -------------------------------------\n",
      "the score is  0.9480104166666666\n",
      "Accuracy of Multinomial NB: 0.9480104166666666\n",
      "Confusion Matrix:\n",
      " [[41170  2551]\n",
      " [ 2440 49839]]\n"
     ]
    }
   ],
   "source": [
    "cv_mnb = CountVectorizer()\n",
    "Xfeatures=df_m[\"name\"]\n",
    "X_mnb = cv_mnb.fit_transform(Xfeatures)\n",
    "X_train_mnb, X_test_mnb, y_train_mnb, y_test_mnb = train_test_split(X_mnb, y, test_size=0.2, random_state=42)\n",
    "# training the model on training set\n",
    "from sklearn.naive_bayes import MultinomialNB\n",
    "mnb = MultinomialNB()\n",
    "start_time_mnb = time.time()\n",
    "mnb.fit(X_train_mnb, y_train_mnb)\n",
    "print(\"-----------------------Training time is : %s seconds -------------------------------------\" % (time.time() - start_time_mnb))\n",
    "# making predictions on the testing set\n",
    "print(\"the score is \",mnb.score(X_test_mnb,y_test_mnb))\n",
    "y_pred_mnb=mnb.predict(X_test_mnb)\n",
    "accuracy_mnb=metrics.accuracy_score(y_test_mnb, y_pred_mnb)\n",
    "print(\"Accuracy of Multinomial NB:\",accuracy_mnb)\n",
    "print(\"Confusion Matrix:\\n\",confusion_matrix(y_pred_mnb,y_test_mnb))"
   ]
  },
  {
   "cell_type": "markdown",
   "id": "retired-judges",
   "metadata": {},
   "source": [
    "#### Recording Audio "
   ]
  },
  {
   "cell_type": "code",
   "execution_count": 5,
   "id": "precious-group",
   "metadata": {},
   "outputs": [
    {
     "data": {
      "text/plain": [
       "'\\nr = sr.Recognizer()\\nwith sr.Microphone() as source:\\n    print(\"Say something!\")\\n    audio = r.listen(source)\\nstr1=r.recognize_google(audio,language=\"fr-FR\").lower()\\nprint(\"you said \",str1)'"
      ]
     },
     "execution_count": 5,
     "metadata": {},
     "output_type": "execute_result"
    }
   ],
   "source": [
    "def genderpredictor(a):\n",
    "    test_name = [a]\n",
    "    vector = cv_mnb.transform(test_name).toarray()\n",
    "    if mnb.predict(vector) == 1:\n",
    "        return \"Female\"\n",
    "    else:\n",
    "        return \"Male\"\n",
    "\"\"\"\n",
    "r = sr.Recognizer()\n",
    "with sr.Microphone() as source:\n",
    "    print(\"Say something!\")\n",
    "    audio = r.listen(source)\n",
    "str1=r.recognize_google(audio,language=\"fr-FR\").lower()\n",
    "print(\"you said \",str1)\"\"\""
   ]
  },
  {
   "cell_type": "markdown",
   "id": "automotive-elizabeth",
   "metadata": {},
   "source": [
    "#### Classify name "
   ]
  },
  {
   "cell_type": "code",
   "execution_count": 6,
   "id": "spanish-concert",
   "metadata": {},
   "outputs": [
    {
     "name": "stdout",
     "output_type": "stream",
     "text": [
      "M\n"
     ]
    },
    {
     "data": {
      "text/plain": [
       "'e\\nout=str1+\" is a \"+\\nprint(str(out))\\nengine.say(out)\\nengine.runAndWait()\\n'"
      ]
     },
     "execution_count": 6,
     "metadata": {},
     "output_type": "execute_result"
    }
   ],
   "source": [
    "print(genderpredictor(\"mouhammed\"))\n",
    "\n",
    "\"\"\"e\n",
    "out=str1+\" is a \"+\n",
    "print(str(out))\n",
    "engine.say(out)\n",
    "engine.runAndWait()\n",
    "\"\"\""
   ]
  },
  {
   "cell_type": "markdown",
   "id": "intelligent-lending",
   "metadata": {},
   "source": [
    "### Validation"
   ]
  },
  {
   "cell_type": "code",
   "execution_count": 7,
   "id": "incorporated-welding",
   "metadata": {},
   "outputs": [],
   "source": [
    "df_v=pd.read_csv(\"../Datasets/national_names_shuf.csv\")[480000:-1] #20% du dataset for validation\n",
    "df_v[\"name\"]=df_v[\"name\"].apply(clean)\n",
    "df_v.drop([\"year\",\"count\"],axis=1)\n",
    "def predvalues():\n",
    "    val=[]\n",
    "    for name in df_v[\"name\"]:\n",
    "        val.append(genderpredictor(name)[0])\n",
    "    return val\n",
    "exact_values=df_v[\"sex\"].values.tolist()\n",
    "val=predvalues()"
   ]
  },
  {
   "cell_type": "code",
   "execution_count": 8,
   "id": "specific-birth",
   "metadata": {},
   "outputs": [
    {
     "name": "stdout",
     "output_type": "stream",
     "text": [
      "Validation Score MNB:  0.9963702958208907\n"
     ]
    }
   ],
   "source": [
    "#print(df_v[\"sex\"].loc[df_v[\"name\"]==\"Pina\"])\n",
    "import collections as clct\n",
    "val_clt=clct.Counter(val)\n",
    "exact_values_clt=clct.Counter(exact_values)\n",
    "score=1-(abs(val_clt['F']-exact_values_clt['F'])+abs(val_clt['M']-exact_values_clt['M']))/len(val)\n",
    "print(\"Validation Score MNB: \",score)\n",
    "#print(df_v[\"name\"].iloc[40])\n",
    "#print(genderpredictor(\"test\"))"
   ]
  },
  {
   "cell_type": "markdown",
   "id": "subtle-absorption",
   "metadata": {},
   "source": [
    "#### Saving Model"
   ]
  },
  {
   "cell_type": "code",
   "execution_count": 9,
   "id": "scientific-phenomenon",
   "metadata": {},
   "outputs": [
    {
     "name": "stdout",
     "output_type": "stream",
     "text": [
      "0.9480104166666666\n"
     ]
    }
   ],
   "source": [
    "filename = 'mnb_model.sav'\n",
    "joblib.dump(mnb, filename)\n",
    "loaded_mnb_model = joblib.load(filename)\n",
    "result = loaded_mnb_model.score(X_test_mnb, y_test_mnb)\n",
    "print(result)"
   ]
  },
  {
   "cell_type": "markdown",
   "id": "honey-atlanta",
   "metadata": {},
   "source": [
    "### Decision Tree"
   ]
  },
  {
   "cell_type": "markdown",
   "id": "musical-senior",
   "metadata": {},
   "source": [
    "#### Feature Extraction"
   ]
  },
  {
   "cell_type": "code",
   "execution_count": 10,
   "id": "dress-orlando",
   "metadata": {},
   "outputs": [],
   "source": [
    "def features(name):\n",
    "    name = name.lower()\n",
    "    return {\n",
    "        'first-letter': name[0], # First letter\n",
    "        'first2-letters': name[0:2], # First 2 letters\n",
    "        'first3-letters': name[0:3], # First 3 letters\n",
    "        'last-letter': name[-1],\n",
    "        'last2-letters': name[-2:],\n",
    "        'last3-letters': name[-3:],\n",
    "    }\n",
    "features = np.vectorize(features)"
   ]
  },
  {
   "cell_type": "code",
   "execution_count": 11,
   "id": "physical-specification",
   "metadata": {},
   "outputs": [
    {
     "name": "stdout",
     "output_type": "stream",
     "text": [
      "-----------------------Training Decision Tree 36.59660840034485 seconds -------------------------------------\n",
      "Accuracy of Decision Tree Classifier: 0.946375\n",
      "Confusion Matrix:\n",
      " [[41383  2921]\n",
      " [ 2227 49469]]\n"
     ]
    }
   ],
   "source": [
    "X_train_features_dtree = features(df_m['name'])\n",
    "\n",
    "dv_dtree = DictVectorizer()\n",
    "\n",
    "X_train_tree, X_test_tree, y_train_tree, y_test_tree = train_test_split(X_train_features_dtree , y, test_size=0.2, random_state=42)\n",
    "\n",
    "from sklearn.tree import DecisionTreeClassifier\n",
    "dv_dtree.fit_transform(X_train_tree)\n",
    "dclf = DecisionTreeClassifier()\n",
    "my_xfeatures =dv_dtree.transform(X_train_tree)\n",
    "start_time_dtree=time.time()\n",
    "dclf.fit(my_xfeatures, y_train_tree)\n",
    "print(\"-----------------------Training Decision Tree %s seconds -------------------------------------\" % (time.time() - start_time_dtree))\n",
    "y_pred_tree= dclf.predict(dv_dtree.transform(X_test_tree))\n",
    "accuracy_dtree=metrics.accuracy_score(y_test_tree, y_pred_tree)\n",
    "print(\"Accuracy of Decision Tree Classifier:\",accuracy_dtree)\n",
    "print(\"Confusion Matrix:\\n\",confusion_matrix(y_pred_tree,y_test_tree))"
   ]
  },
  {
   "cell_type": "markdown",
   "id": "reserved-helena",
   "metadata": {},
   "source": [
    "#### Recording Audio "
   ]
  },
  {
   "cell_type": "code",
   "execution_count": 12,
   "id": "violent-departure",
   "metadata": {},
   "outputs": [
    {
     "data": {
      "text/plain": [
       "'\\nr_tree = sr.Recognizer()\\nwith sr.Microphone() as source:\\n    print(\"Say something!\")\\n    audio = r_tree.listen(source)\\nstr2=r_tree.recognize_google(audio,language=\"fr-FR\").lower()\\nprint(\"you said \",str2)'"
      ]
     },
     "execution_count": 12,
     "metadata": {},
     "output_type": "execute_result"
    }
   ],
   "source": [
    "def genderpredictor_tree(a):\n",
    "    test_name_tree = [a]\n",
    "    vector_tree = dv_dtree.transform(features(test_name_tree)).toarray()\n",
    "    if dclf.predict(vector_tree) == 1:\n",
    "        return \"Female\"\n",
    "    else:\n",
    "        return \"Male\"\n",
    "\"\"\"\n",
    "r_tree = sr.Recognizer()\n",
    "with sr.Microphone() as source:\n",
    "    print(\"Say something!\")\n",
    "    audio = r_tree.listen(source)\n",
    "str2=r_tree.recognize_google(audio,language=\"fr-FR\").lower()\n",
    "print(\"you said \",str2)\"\"\""
   ]
  },
  {
   "cell_type": "markdown",
   "id": "returning-friendship",
   "metadata": {},
   "source": [
    "#### Classify name"
   ]
  },
  {
   "cell_type": "code",
   "execution_count": 13,
   "id": "inner-exhaust",
   "metadata": {},
   "outputs": [
    {
     "name": "stdout",
     "output_type": "stream",
     "text": [
      "M\n"
     ]
    },
    {
     "data": {
      "text/plain": [
       "'\\nout_tree=str2+\" is a \"+genderpredictor_tree(str2)\\nprint(str(out_tree))\\nengine.say(out_tree)\\nengine.runAndWait()'"
      ]
     },
     "execution_count": 13,
     "metadata": {},
     "output_type": "execute_result"
    }
   ],
   "source": [
    "print(genderpredictor_tree(\"rachid\"))\n",
    "\"\"\"\n",
    "out_tree=str2+\" is a \"+genderpredictor_tree(str2)\n",
    "print(str(out_tree))\n",
    "engine.say(out_tree)\n",
    "engine.runAndWait()\"\"\""
   ]
  },
  {
   "cell_type": "code",
   "execution_count": 14,
   "id": "established-academy",
   "metadata": {},
   "outputs": [
    {
     "name": "stdout",
     "output_type": "stream",
     "text": [
      "Dawn\n",
      "F\n"
     ]
    }
   ],
   "source": [
    "print(df_v[\"name\"].iloc[62023])\n",
    "print(genderpredictor(df_v[\"name\"].iloc[62023]))"
   ]
  },
  {
   "cell_type": "markdown",
   "id": "verbal-assurance",
   "metadata": {},
   "source": [
    "### Validation"
   ]
  },
  {
   "cell_type": "code",
   "execution_count": 15,
   "id": "processed-memphis",
   "metadata": {},
   "outputs": [],
   "source": [
    "df_v=pd.read_csv(\"../Datasets/national_names_shuf.csv\")[480000:-1] #20% du dataset for validation\n",
    "df_v[\"name\"]=df_v[\"name\"].apply(clean)\n",
    "df_v.drop([\"year\",\"count\"],axis=1)\n",
    "def predvalues_tree():\n",
    "    val=[]\n",
    "    for name in df_v[\"name\"]:\n",
    "        val.append(genderpredictor_tree(name)[0])\n",
    "    return val\n",
    "exact_values_tree=df_v[\"sex\"].values.tolist()\n",
    "val_tree=predvalues_tree()"
   ]
  },
  {
   "cell_type": "code",
   "execution_count": 16,
   "id": "figured-impossible",
   "metadata": {},
   "outputs": [
    {
     "name": "stdout",
     "output_type": "stream",
     "text": [
      "65124\n",
      "66024\n",
      "Validation Score DTree:  0.9851512101763706\n"
     ]
    }
   ],
   "source": [
    "val_tree_clt=clct.Counter(val_tree)\n",
    "exact_values_tree_clt=clct.Counter(exact_values_tree)\n",
    "score_tree=1-(abs(val_tree_clt['F']-exact_values_tree_clt['F'])+abs(val_tree_clt['M']-exact_values_tree_clt['M']))/len(val_tree)\n",
    "print(\"Validation Score DTree: \",score_tree)"
   ]
  },
  {
   "cell_type": "markdown",
   "id": "broke-avatar",
   "metadata": {},
   "source": [
    "#### Saving Model"
   ]
  },
  {
   "cell_type": "code",
   "execution_count": 17,
   "id": "beginning-ridge",
   "metadata": {},
   "outputs": [
    {
     "name": "stdout",
     "output_type": "stream",
     "text": [
      "0.946375\n"
     ]
    }
   ],
   "source": [
    "filename = 'dtree_model.sav'\n",
    "joblib.dump(dclf, filename)\n",
    "loaded_dtree_model = joblib.load(filename)\n",
    "y_pred_tree= loaded_dtree_model.predict(dv_dtree.transform(X_test_tree))\n",
    "accuracy_dtree=metrics.accuracy_score(y_test_tree, y_pred_tree)\n",
    "print(accuracy_dtree)"
   ]
  },
  {
   "cell_type": "markdown",
   "id": "based-weather",
   "metadata": {},
   "source": [
    "### Random Forest"
   ]
  },
  {
   "cell_type": "code",
   "execution_count": 18,
   "id": "occupational-anniversary",
   "metadata": {},
   "outputs": [
    {
     "name": "stdout",
     "output_type": "stream",
     "text": [
      "-----------------------Training Random Forest  693.3444504737854 seconds -------------------------------------\n",
      "Accuracy of Random Forrest: 0.9463383838383839\n",
      "Confusion Matrix:\n",
      " [[68346  4637]\n",
      " [ 3863 81554]]\n"
     ]
    }
   ],
   "source": [
    "from sklearn.ensemble import RandomForestClassifier\n",
    "clf_randomForrest = RandomForestClassifier(random_state = 1)\n",
    "X_train_features_randomForrest = features(df_m['name'])\n",
    "\n",
    "dv_randomForrest = DictVectorizer()\n",
    "\n",
    "X_train_randomForrest, X_test_randomForrest, y_train_randomForrest, y_test_randomForrest = train_test_split(X_train_features_randomForrest , y, test_size=0.33, random_state=42)\n",
    "dv_randomForrest.fit_transform(X_train_randomForrest)\n",
    "my_xfeatures_randomForrest =dv_randomForrest.transform(X_train_randomForrest)\n",
    "start_time_rForest=time.time()\n",
    "clf_randomForrest.fit(my_xfeatures_randomForrest, y_train_randomForrest)\n",
    "print(\"-----------------------Training Random Forest  %s seconds -------------------------------------\" % (time.time() - start_time_rForest))\n",
    "y_pred_randomForrest= clf_randomForrest.predict(dv_randomForrest.transform(X_test_randomForrest))\n",
    "accuracy_randomForrest=metrics.accuracy_score(y_test_randomForrest, y_pred_randomForrest)\n",
    "print(\"Accuracy of Random Forrest:\",accuracy_randomForrest)\n",
    "print(\"Confusion Matrix:\\n\",confusion_matrix(y_pred_randomForrest,y_test_randomForrest))"
   ]
  },
  {
   "cell_type": "markdown",
   "id": "invalid-church",
   "metadata": {},
   "source": [
    "#### Recording Audio (Input)"
   ]
  },
  {
   "cell_type": "code",
   "execution_count": 19,
   "id": "adequate-escape",
   "metadata": {},
   "outputs": [
    {
     "data": {
      "text/plain": [
       "'\\nr_r = sr.Recognizer()\\nwith sr.Microphone() as source:\\n    print(\"Say something!\")\\n    audio = r_r.listen(source)\\nstr3=r_r.recognize_google(audio,language=\"fr-FR\").lower()\\nprint(\"you said \",str3)'"
      ]
     },
     "execution_count": 19,
     "metadata": {},
     "output_type": "execute_result"
    }
   ],
   "source": [
    "def genderpredictor_r(a):\n",
    "    test_name_tree = [a]\n",
    "    vector_tree = dv_randomForrest.transform(features(test_name_tree)).toarray()\n",
    "    if clf_randomForrest.predict(vector_tree) == 1:\n",
    "        return \"Female\"\n",
    "    else:\n",
    "        return \"Male\"\n",
    "\"\"\"\n",
    "r_r = sr.Recognizer()\n",
    "with sr.Microphone() as source:\n",
    "    print(\"Say something!\")\n",
    "    audio = r_r.listen(source)\n",
    "str3=r_r.recognize_google(audio,language=\"fr-FR\").lower()\n",
    "print(\"you said \",str3)\"\"\""
   ]
  },
  {
   "cell_type": "markdown",
   "id": "analyzed-porter",
   "metadata": {},
   "source": [
    "#### Classify name "
   ]
  },
  {
   "cell_type": "code",
   "execution_count": 20,
   "id": "offensive-campus",
   "metadata": {},
   "outputs": [
    {
     "name": "stdout",
     "output_type": "stream",
     "text": [
      "M\n"
     ]
    },
    {
     "data": {
      "text/plain": [
       "'\\nout_r=str3+\" is a \"+genderpredictor_r(str3)\\nprint(out_r)\\nengine.say(out_r)\\nengine.runAndWait()'"
      ]
     },
     "execution_count": 20,
     "metadata": {},
     "output_type": "execute_result"
    }
   ],
   "source": [
    "print(genderpredictor_r(\"rachid\"))\n",
    "\"\"\"\n",
    "out_r=str3+\" is a \"+genderpredictor_r(str3)\n",
    "print(out_r)\n",
    "engine.say(out_r)\n",
    "engine.runAndWait()\"\"\""
   ]
  },
  {
   "cell_type": "code",
   "execution_count": 21,
   "id": "informal-poster",
   "metadata": {},
   "outputs": [
    {
     "name": "stdout",
     "output_type": "stream",
     "text": [
      "Ilian\n",
      "M\n"
     ]
    }
   ],
   "source": [
    "print(df_v[\"name\"].iloc[12010])\n",
    "print(genderpredictor_r(df_v[\"name\"].iloc[12010]))"
   ]
  },
  {
   "cell_type": "markdown",
   "id": "muslim-enzyme",
   "metadata": {},
   "source": [
    "### Validation "
   ]
  },
  {
   "cell_type": "code",
   "execution_count": 22,
   "id": "athletic-county",
   "metadata": {},
   "outputs": [],
   "source": [
    "df_v=pd.read_csv(\"../Datasets/national_names_shuf.csv\")[480000:-1] #20% du dataset for validation\n",
    "df_v[\"name\"]=df_v[\"name\"].apply(clean)\n",
    "df_v.drop([\"year\",\"count\"],axis=1)\n",
    "def predvalues_rf():\n",
    "    val=[]\n",
    "    for name in df_v[\"name\"]:\n",
    "        val.append(genderpredictor_r(name)[0])\n",
    "    return val\n",
    "exact_values_rf=df_v[\"sex\"].values.tolist()\n",
    "val_rf=predvalues_rf()"
   ]
  },
  {
   "cell_type": "code",
   "execution_count": 23,
   "id": "checked-blind",
   "metadata": {},
   "outputs": [
    {
     "name": "stdout",
     "output_type": "stream",
     "text": [
      "65326\n",
      "66024\n",
      "Validation Score RForest:  0.9884839385590074\n"
     ]
    }
   ],
   "source": [
    "val_rf_clt=clct.Counter(val_rf)\n",
    "exact_values_rf_clt=clct.Counter(exact_values_rf)\n",
    "print(val_rf_clt['F'])\n",
    "print(exact_values_rf_clt['F'])\n",
    "score_rf=1-(abs(val_rf_clt['F']-exact_values_rf_clt['F'])+abs(val_rf_clt['M']-exact_values_rf_clt['M']))/len(val_rf)\n",
    "print(\"Validation Score RForest: \",score_rf)"
   ]
  },
  {
   "cell_type": "markdown",
   "id": "smooth-league",
   "metadata": {},
   "source": [
    "### Saving Model "
   ]
  },
  {
   "cell_type": "code",
   "execution_count": 24,
   "id": "discrete-award",
   "metadata": {},
   "outputs": [
    {
     "name": "stdout",
     "output_type": "stream",
     "text": [
      "0.9463383838383839\n"
     ]
    }
   ],
   "source": [
    "filename = 'rf_model.sav'\n",
    "joblib.dump(clf_randomForrest, filename)\n",
    "loaded_rF_model = joblib.load(filename)\n",
    "y_pred_rForest= loaded_rF_model.predict(dv_randomForrest.transform(X_test_randomForrest))\n",
    "accuracy_rF=metrics.accuracy_score(y_test_randomForrest, y_pred_rForest)\n",
    "print(accuracy_rF)"
   ]
  },
  {
   "cell_type": "markdown",
   "id": "reserved-chinese",
   "metadata": {},
   "source": [
    "### Results "
   ]
  },
  {
   "cell_type": "markdown",
   "id": "round-tokyo",
   "metadata": {},
   "source": [
    "#### Display Accuracy"
   ]
  },
  {
   "cell_type": "code",
   "execution_count": 25,
   "id": "liable-telescope",
   "metadata": {},
   "outputs": [
    {
     "data": {
      "image/png": "[encoded data removed]",
      "text/plain": [
       "<Figure size 432x288 with 1 Axes>"
      ]
     },
     "metadata": {},
     "output_type": "display_data"
    }
   ],
   "source": [
    "list_accuracy=[accuracy_mnb,accuracy_dtree,accuracy_randomForrest]\n",
    "x=['MNB','Dtree','RandomForrest']\n",
    "plt.plot(x,list_accuracy,label='linear',color='g')\n",
    "plt.xlabel('Different Models').set_color('blue')\n",
    "plt.ylabel('Values of accuracy ').set_color('blue')\n",
    "plt.title('Comparaison of accuracy ').set_color('green')"
   ]
  },
  {
   "cell_type": "markdown",
   "id": "amended-strand",
   "metadata": {},
   "source": [
    "#### ROC AUC"
   ]
  },
  {
   "cell_type": "code",
   "execution_count": 26,
   "id": "hundred-malpractice",
   "metadata": {},
   "outputs": [
    {
     "data": {
      "image/png": "[encoded data removed]",
      "text/plain": [
       "<Figure size 432x288 with 1 Axes>"
      ]
     },
     "metadata": {},
     "output_type": "display_data"
    }
   ],
   "source": [
    "y_roc_auc_score_mnb=roc_auc_score(y_test_mnb, y_pred_mnb, average='weighted')\n",
    "y_roc_auc_score_dtree=roc_auc_score(y_test_tree, y_pred_tree, average='weighted')\n",
    "y_roc_auc_score_randomForrest=roc_auc_score(y_test_randomForrest, y_pred_randomForrest, average='weighted')\n",
    "list_accuracy=[y_roc_auc_score_mnb,y_roc_auc_score_dtree,y_roc_auc_score_randomForrest]\n",
    "x=['MNB','Dtree','RandomForrest']\n",
    "plt.plot(x,list_accuracy,label='linear',color='g')\n",
    "plt.xlabel('Different Models').set_color('blue')\n",
    "plt.ylabel('Values of accuracy ').set_color('blue')\n",
    "plt.title('Comparaison of ROC AUC ').set_color('green')"
   ]
  },
  {
   "cell_type": "markdown",
   "id": "uniform-stretch",
   "metadata": {},
   "source": [
    "#### ROC Curve"
   ]
  },
  {
   "cell_type": "code",
   "execution_count": 27,
   "id": "undefined-stephen",
   "metadata": {},
   "outputs": [
    {
     "data": {
      "image/png": "[encoded data removed]",
      "text/plain": [
       "<Figure size 432x288 with 4 Axes>"
      ]
     },
     "metadata": {},
     "output_type": "display_data"
    }
   ],
   "source": [
    "false_positive_mnb, true_positive_mnb, threshold_mnb = roc_curve(y_test_mnb, y_pred_mnb)\n",
    "false_positive_tree, true_positive_tree, threshold_tree = roc_curve(y_test_tree, y_pred_tree)\n",
    "false_positive_randomForrest, true_positive_randomForrest, threshold_randomForrest = roc_curve(y_test_randomForrest, y_pred_randomForrest)\n",
    "fig, axs = plt.subplots(2, 2)\n",
    "axs[0,0].plot(false_positive_mnb,true_positive_mnb,color='g')\n",
    "axs[0,0].set_title('ROC Curve MNB ').set_color('green')\n",
    "axs[0,1].plot(false_positive_tree,true_positive_tree,color='r')\n",
    "axs[0,1].set_title('ROC Curve DTree ').set_color('red')\n",
    "axs[1,1].plot(false_positive_randomForrest,true_positive_randomForrest,color='b')\n",
    "axs[1,1].set_title('ROC Curve Random Forrest ').set_color('blue')\n",
    "for ax in axs.flat:\n",
    "    ax.set(xlabel='False Posituve', ylabel='True Positive')\n",
    "for ax in fig.get_axes():\n",
    "    ax.label_outer()"
   ]
  },
  {
   "cell_type": "code",
   "execution_count": null,
   "id": "collectible-playlist",
   "metadata": {},
   "outputs": [],
   "source": []
  }
 ],
 "metadata": {
  "kernelspec": {
   "display_name": "Python 3 (Spyder)",
   "language": "python3",
   "name": "python3"
  },
  "language_info": {
   "codemirror_mode": {
    "name": "ipython",
    "version": 3
   },
   "file_extension": ".py",
   "mimetype": "text/x-python",
   "name": "python",
   "nbconvert_exporter": "python",
   "pygments_lexer": "ipython3",
   "version": "3.8.8"
  }
 },
 "nbformat": 4,
 "nbformat_minor": 5
}
